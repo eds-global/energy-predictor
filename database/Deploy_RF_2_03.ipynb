{
 "cells": [
  {
   "cell_type": "code",
   "execution_count": null,
   "id": "eea44ee8-a073-413c-9006-d36388a91f64",
   "metadata": {},
   "outputs": [],
   "source": [
    "import numpy as np\n",
    "import pandas as pd\n",
    "import matplotlib.pyplot as plt\n",
    "import seaborn as sns\n",
    "from sklearn.preprocessing import MinMaxScaler, OneHotEncoder\n",  
    "from sklearn.compose import ColumnTransformer\n",
    "from sklearn.model_selection import train_test_split\n",
    "from sklearn.ensemble import RandomForestRegressor\n",
    "from sklearn.model_selection import RandomizedSearchCV\n",
    "from scipy.stats import uniform\n",
    "from sklearn.preprocessing import OneHotEncoder\n",
    "from sklearn.compose import ColumnTransformer\n",
    "from sklearn.metrics import mean_absolute_error, mean_squared_error, r2_score"
   ]
  },
  {
   "cell_type": "code",
   "execution_count": null,
   "id": "3470480a-bc53-4713-b70e-b5e423219a5f",
   "metadata": {},
   "outputs": [],
   "source": [
    "df = pd.read_excel(r\"C:\\Users\\abhis\\Downloads\\NewNormalized_DB.xlsx\")\n"
   ]
  },
  {
   "cell_type": "code",
   "execution_count": null,
   "id": "b6ba8426-d344-435e-90cc-d88f03306ed9",
   "metadata": {},
   "outputs": [],
   "source": [
    "filtered_df = df[df['ProjectTypology'] == 'Business']\n",
    "\n",
    "# Drop unnecessary column\n",
    "filtered_df = filtered_df.drop(columns=['Roof-Window-Area/Roof-Area'])\n",
    "filtered_df = filtered_df.drop(columns=['ProjectTypology'])\n"
   ]
  },
  {
   "cell_type": "code",
   "execution_count": null,
   "id": "870250fc-5e9b-4ef2-aa82-750fb56dc97d",
   "metadata": {},
   "outputs": [],
   "source": [
    "filtered_df = filtered_df.dropna()"
   ]
  },
  {
   "cell_type": "code",
   "execution_count": null,
   "id": "5476f4a7-9ef2-4870-94ee-ff3ae67b6441",
   "metadata": {},
   "outputs": [],
   "source": [
    "cols_to_scale = [\n",
    "    'Above-Grade/Below-Grade', 'Conditioned-Area/UnConditioned-Area', 'Roof-Area/Total-AG-Floor-Area',\n",
    "    'Total-Above-Grade-Ext-Wall-Area/Total-AG-FloorArea', 'Power-Lighting(W/SQFT)', 'Equipment-Tot(W/SQFT)', \n",
    "    'ROOF-U-Value(BTU/HR-SQFT-F)', 'ALL WALLS-Wall-U-Value(BTU/HR-SQFT-F)', 'UNDERGRND-Wall-U-Value(BTU/HR-SQFT-F)', \n",
    "    'ROOF-Window-U-Value(BTU/HR-SQFT-F)', 'ALL WALLS-Window-U-Value(BTU/HR-SQFT-F)', 'WWR', \n",
    "    'Total-LSC(KW/SQFT)', 'Total-LOAD(KW/SQFT)', 'Total-LOAD/Conditioned-Area(KW/SQFT)'\n",
    "]\n",
    "categorical_features = ['Climate']"
   ]
  },
  {
   "cell_type": "code",
   "execution_count": null,
   "id": "94d4dbcb-e0e6-4cbd-8539-60b0d6b90b41",
   "metadata": {},
   "outputs": [],
   "source": [
    "X = filtered_df.drop(columns=['Energy_Outcome(KWH/SQFT)'])\n",
    "y = filtered_df['Energy_Outcome(KWH/SQFT)']"
   ]
  },
  {
   "cell_type": "code",
   "execution_count": null,
   "id": "6fa5524a-f049-49e0-9827-857915892ad9",
   "metadata": {},
   "outputs": [],
   "source": [
    "X_train, X_test, y_train, y_test = train_test_split(X, y, test_size=0.2, random_state=42)\n"
   ]
  },
  {
   "cell_type": "code",
   "execution_count": null,
   "id": "84a368b2-08da-4039-8b05-97e60919e0e8",
   "metadata": {},
   "outputs": [],
   "source": [
    "scaler = MinMaxScaler()\n",
    "X_train[cols_to_scale] = scaler.fit_transform(X_train[cols_to_scale])\n",
    "X_test[cols_to_scale] = scaler.transform(X_test[cols_to_scale])\n"
   ]
  },
  {
   "cell_type": "code",
   "execution_count": null,
   "id": "7185406d-27c8-476e-afca-29c3cacc9d4d",
   "metadata": {},
   "outputs": [],
   "source": [
    "categorical_features = ['Climate']\n",
    "\n",
    "# Modify OneHotEncoder to handle unknown categories\n",
    "preprocessor = ColumnTransformer(\n",
    "    transformers=[\n",
    "        ('onehot', OneHotEncoder(handle_unknown='ignore', drop='first'), categorical_features)\n",
    "    ],\n",
    "    remainder='passthrough'\n",
    ")"
   ]
  },
  {
   "cell_type": "code",
   "execution_count": null,
   "id": "1e0d0ae3-8371-402b-903b-853d8c17a66a",
   "metadata": {},
   "outputs": [],
   "source": [
    "X_train_encoded = preprocessor.fit_transform(X_train)\n",
    "X_test_encoded = preprocessor.transform(X_test)\n"
   ]
  },
  {
   "cell_type": "code",
   "execution_count": null,
   "id": "d5455487-725e-4707-8ffd-bada8f4b0af1",
   "metadata": {},
   "outputs": [],
   "source": [
    "onehot_columns = preprocessor.transformers_[0][1].get_feature_names_out(categorical_features)\n",
    "X_train_encoded_df = pd.DataFrame(X_train_encoded, columns=list(onehot_columns) + list(X_train.drop(columns=categorical_features).columns))\n",
    "X_test_encoded_df = pd.DataFrame(X_test_encoded, columns=list(onehot_columns) + list(X_test.drop(columns=categorical_features).columns))"
   ]
  },
  {
   "cell_type": "code",
   "execution_count": null,
   "id": "9d59bf2f-3867-4335-a8fc-84698891e425",
   "metadata": {},
   "outputs": [],
   "source": [
    "main_model = RandomForestRegressor()\n",
    "main_model.fit(X_train_encoded_df, y_train)"
   ]
  },
  {
   "cell_type": "code",
   "execution_count": null,
   "id": "36f46fbc-9629-429b-93e8-489c7cabe5ba",
   "metadata": {},
   "outputs": [],
   "source": [
    "y_pred = main_model.predict(X_test_encoded_df)\n"
   ]
  },
  {
   "cell_type": "code",
   "execution_count": null,
   "id": "f2ec404d-66e1-45ed-a362-8ed3e15998e0",
   "metadata": {},
   "outputs": [],
   "source": [
    "MAE = mean_absolute_error(y_test, y_pred)\n",
    "MSE = mean_squared_error(y_test, y_pred)\n",
    "R2 = r2_score(y_test, y_pred)\n",
    "\n",
    "print(f\"MAE: {MAE}\")\n",
    "print(f\"MSE: {MSE}\")\n",
    "print(f\"R2 Score: {R2}\")\n"
   ]
  },
  {
   "cell_type": "code",
   "execution_count": null,
   "id": "7398ef6b-12ff-4c46-9d8b-d5584ffc981e",
   "metadata": {},
   "outputs": [],
   "source": [
    "# Function to preprocess new data for prediction\n",
    "def preprocess_new_data(new_data, scaler, preprocessor):\n",
    "    # Ensure new_data is a DataFrame\n",
    "    new_data = pd.DataFrame(new_data)\n",
    "\n",
    "    # Apply MinMax scaling (Use the same columns used during training)\n",
    "    new_data[cols_to_scale] = scaler.transform(new_data[cols_to_scale])\n",
    "\n",
    "    # Apply One-Hot Encoding\n",
    "    new_data_encoded = preprocessor.transform(new_data)\n",
    "\n",
    "    # Convert to DataFrame with proper column names\n",
    "    new_data_encoded_df = pd.DataFrame(new_data_encoded, \n",
    "                                       columns=list(onehot_columns) + list(new_data.drop(columns=categorical_features).columns))\n",
    "    \n",
    "    return new_data_encoded_df\n",
    "\n",
    "# Example new data (Must have the same feature names as training data)\n",
    "new_data = {\n",
    "    'Above-Grade/Below-Grade': [1.740841133],\n",
    "    'Conditioned-Area/UnConditioned-Area': [0.8152585082],\n",
    "    'Roof-Area/Total-AG-Floor-Area': [0.630872462],\n",
    "    'Total-Above-Grade-Ext-Wall-Area/Total-AG-FloorArea': [0.5938106128],\n",
    "    'Power-Lighting(W/SQFT)': [1.063847852],\n",
    "    'Equipment-Tot(W/SQFT)': [0.9882261944],\n",
    "    'ROOF-U-Value(BTU/HR-SQFT-F)': [0.051],\n",
    "    'ALL WALLS-Wall-U-Value(BTU/HR-SQFT-F)': [0.118],\n",
    "    'UNDERGRND-Wall-U-Value(BTU/HR-SQFT-F)': [0.024],\n",
    "    'ROOF-Window-U-Value(BTU/HR-SQFT-F)': [0],\n",
    "    'ALL WALLS-Window-U-Value(BTU/HR-SQFT-F)': [0.918],\n",
    "    'WWR': [0.265731904],\n",
    "    'Total-LSC(KW/SQFT)': [0.003720438671],\n",
    "    'Total-LOAD(KW/SQFT)': [0.01641817803],\n",
    "    'Total-LOAD/Conditioned-Area(KW/SQFT)': [0.033800463],\n",
    "    'Climate': ['Composite']  # Categorical feature\n",
    "}\n",
    "\n",
    "# Convert new data into DataFrame\n",
    "new_data_df = pd.DataFrame(new_data)\n",
    "\n",
    "# Preprocess new data\n",
    "new_data_encoded_df = preprocess_new_data(new_data_df, scaler, preprocessor)\n",
    "\n",
    "# Make prediction\n",
    "predicted_energy_outcome = main_model.predict(new_data_encoded_df)\n",
    "\n",
    "# Output result\n",
    "print(f\"Predicted Energy Outcome (KWH/SQFT): {predicted_energy_outcome[0]}\")\n"
   ]
  },
  {
   "cell_type": "code",
   "execution_count": null,
   "id": "e2bceb5e-50fb-4739-ad23-0ec309ebfaa3",
   "metadata": {},
   "outputs": [],
   "source": [
    "import pickle\n",
    "\n",
    "# Save the trained model, scaler, and preprocessor\n",
    "with open('energy_prediction_model.pkl', 'wb') as file:\n",
    "    pickle.dump({'model': main_model, 'scaler': scaler, 'preprocessor': preprocessor}, file)\n",
    "\n",
    "print(\"Model saved successfully!\")\n"
   ]
  }
 ],
 "metadata": {
  "kernelspec": {
   "display_name": "Python 3 (ipykernel)",
   "language": "python",
   "name": "python3"
  },
  "language_info": {
   "codemirror_mode": {
    "name": "ipython",
    "version": 3
   },
   "file_extension": ".py",
   "mimetype": "text/x-python",
   "name": "python",
   "nbconvert_exporter": "python",
   "pygments_lexer": "ipython3",
   "version": "3.11.9"
  }
 },
 "nbformat": 4,
 "nbformat_minor": 5
}
